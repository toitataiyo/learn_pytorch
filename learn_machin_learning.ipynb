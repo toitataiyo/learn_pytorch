{
 "cells": [
  {
   "cell_type": "code",
   "execution_count": 1,
   "metadata": {},
   "outputs": [],
   "source": [
    "import numpy as np"
   ]
  },
  {
   "cell_type": "code",
   "execution_count": 4,
   "metadata": {},
   "outputs": [
    {
     "name": "stdout",
     "output_type": "stream",
     "text": [
      "xとwの内積) 形:(1, 1), 型:float64\n",
      "[[20.]]\n",
      "\n",
      "wのノルム) 形:(1, 1), 型:float64\n",
      "[[34.]]\n",
      "\n"
     ]
    }
   ],
   "source": [
    "w = np.array([[5.0], [3.0]])\n",
    "x = np.array([[1.0, 5.0]])\n",
    "xw = np.matmul(x, w)\n",
    "ww = np.matmul(w.T, w)\n",
    "\n",
    "print(f\"xとwの内積) 形:{xw.shape}, 型:{xw.dtype}\\n{xw}\\n\")\n",
    "print(f\"wのノルム) 形:{ww.shape}, 型:{ww.dtype}\\n{ww}\\n\")"
   ]
  },
  {
   "cell_type": "code",
   "execution_count": 6,
   "metadata": {},
   "outputs": [
    {
     "name": "stdout",
     "output_type": "stream",
     "text": [
      "行列X) 形:(3, 2), 型:float64, [[1. 2.]\n",
      " [2. 4.]\n",
      " [3. 6.]]\n",
      "1行目) 形:(1, 2), 型:(1, 2), [[1. 2.]]\n",
      "2列目) 形:(3, 1), 形:float64, [[2.]\n",
      " [4.]\n",
      " [6.]]\n"
     ]
    }
   ],
   "source": [
    "# x[i-1, :] → 各データ\n",
    "# x[:, j-1] → 一つのパラメータ\n",
    "X = np.array([[1.0, 2.0], [2.0, 4.0], [3.0, 6.0]])\n",
    "Xrow1 = X[[0], :]\n",
    "Xcol2 = X[:, [1]]\n",
    "print(f\"行列X) 形:{X.shape}, 型:{X.dtype}, {X}\")\n",
    "print(f\"1行目) 形:{Xrow1.shape}, 型:{Xrow1.shape}, {Xrow1}\")\n",
    "print(f\"2列目) 形:{Xcol2.shape}, 形:{Xcol2.dtype}, {Xcol2}\")"
   ]
  },
  {
   "cell_type": "code",
   "execution_count": 7,
   "metadata": {},
   "outputs": [
    {
     "data": {
      "text/plain": [
       "array([1., 2.])"
      ]
     },
     "execution_count": 7,
     "metadata": {},
     "output_type": "execute_result"
    }
   ],
   "source": [
    "X[0, :]"
   ]
  },
  {
   "cell_type": "code",
   "execution_count": null,
   "metadata": {},
   "outputs": [
    {
     "data": {
      "text/plain": [
       "array([[1., 2.]])"
      ]
     },
     "execution_count": 8,
     "metadata": {},
     "output_type": "execute_result"
    }
   ],
   "source": [
    "X[[0], :] #行列の形を保持"
   ]
  },
  {
   "cell_type": "code",
   "execution_count": 9,
   "metadata": {},
   "outputs": [
    {
     "name": "stdout",
     "output_type": "stream",
     "text": [
      "積和の結果) \n",
      "[[12.]\n",
      " [23.]\n",
      " [34.]]\n"
     ]
    }
   ],
   "source": [
    "X = np.array([[1.0, 2.0], [2.0, 4.0], [3.0, 6.0]])\n",
    "w = np.array([[5.0], [3.0]])\n",
    "b = np.array([[1.0], [1.0], [1.0]])\n",
    "res = np.matmul(X, w) + b\n",
    "print(f\"積和の結果) \\n{res}\")"
   ]
  },
  {
   "cell_type": "code",
   "execution_count": 10,
   "metadata": {},
   "outputs": [
    {
     "name": "stdout",
     "output_type": "stream",
     "text": [
      "rankA :2\n",
      "rankB :1\n"
     ]
    }
   ],
   "source": [
    "A = np.array([[6.0, 2.0], [2.0, 5.0]])\n",
    "B = np.array([[6.0, 3.0], [2.0, 1.0]])\n",
    "rankA = np.linalg.matrix_rank(A)\n",
    "rankB = np.linalg.matrix_rank(B)\n",
    "print(f\"rankA :{rankA}\")\n",
    "print(f\"rankB :{rankB}\")"
   ]
  },
  {
   "cell_type": "code",
   "execution_count": null,
   "metadata": {},
   "outputs": [
    {
     "name": "stdout",
     "output_type": "stream",
     "text": [
      "行列A) ランク:2, 逆行列 :[[ 0.19230769 -0.07692308]\n",
      " [-0.07692308  0.23076923]]\n",
      "行列B) ランク :1, 特異行列\n"
     ]
    }
   ],
   "source": [
    "if rankA == len(A):\n",
    "    invA = np.linalg.inv(A)\n",
    "    print(f\"行列A) ランク:{rankA}, 逆行列 :{invA}\")\n",
    "else:\n",
    "    print(f\"行列A) ランク :{rankA}, 特異行列\")\n",
    "\n",
    "if rankB == len(B):\n",
    "    invB = np.linalg.inv(B) #逆行列\n",
    "    print(f\"行列B) ランク:{rankB}, 逆行列 :{invB}\")\n",
    "else:\n",
    "    print(f\"行列B) ランク :{rankB}, 特異行列\")\n",
    "    "
   ]
  },
  {
   "cell_type": "code",
   "execution_count": 13,
   "metadata": {},
   "outputs": [
    {
     "name": "stdout",
     "output_type": "stream",
     "text": [
      "行列Aの行列式:26.0\n",
      "行列Bの行列式:0.0\n"
     ]
    }
   ],
   "source": [
    "detA = np.linalg.det(A)\n",
    "detB = np.linalg.det(B)\n",
    "print(f\"行列Aの行列式:{detA:.1f}\")\n",
    "print(f\"行列Bの行列式:{detB:.1f}\")"
   ]
  },
  {
   "cell_type": "code",
   "execution_count": 14,
   "metadata": {},
   "outputs": [
    {
     "name": "stdout",
     "output_type": "stream",
     "text": [
      "固有値:[ 5. -1.]\n",
      "固有ベクトル:[[ 0.70710678 -0.4472136 ]\n",
      " [ 0.70710678  0.89442719]]\n"
     ]
    }
   ],
   "source": [
    "A = np.array([[3, 2], [4,1]])\n",
    "L, V = np.linalg.eig(A)\n",
    "print(f\"固有値:{L}\")\n",
    "print(f\"固有ベクトル:{V}\")"
   ]
  },
  {
   "cell_type": "code",
   "execution_count": 19,
   "metadata": {},
   "outputs": [
    {
     "name": "stdout",
     "output_type": "stream",
     "text": [
      "行列Aの固有値:[4. 2.]\n",
      "行列Aの固有ベクトル:[[ 0.70710678 -0.70710678]\n",
      " [ 0.70710678  0.70710678]]\n",
      "固有ベクトルの内積:[[0.]]\n",
      "固有値の和:6.0\n",
      "行列Aのトレース(対角成分の和):6\n",
      "固有値の積:8.0\n",
      "行列Aの行列式:8.0\n",
      "行列Vの逆行列:[[ 0.70710678  0.70710678]\n",
      " [-0.70710678  0.70710678]]\n",
      "行列Vの転置:[[ 0.70710678  0.70710678]\n",
      " [-0.70710678  0.70710678]]\n"
     ]
    }
   ],
   "source": [
    "A = np.array([[3, 1], [1, 3]])\n",
    "L, V = np.linalg.eig(A)\n",
    "print(f\"行列Aの固有値:{L}\")\n",
    "print(f\"行列Aの固有ベクトル:{V}\")\n",
    "print(f\"固有ベクトルの内積:{np.matmul(V[:, [0]].T, V[:, [1]])}\")\n",
    "print(f\"固有値の和:{np.sum(L)}\")\n",
    "print(f\"行列Aのトレース(対角成分の和):{np.sum(np.diag(A))}\")\n",
    "print(f\"固有値の積:{np.prod(L)}\")\n",
    "print(f\"行列Aの行列式:{np.linalg.det(A):.1f}\")\n",
    "print(f\"行列Vの逆行列:{np.linalg.inv(V)}\")\n",
    "print(f\"行列Vの転置:{V.T}\")"
   ]
  },
  {
   "cell_type": "code",
   "execution_count": 20,
   "metadata": {},
   "outputs": [
    {
     "name": "stdout",
     "output_type": "stream",
     "text": [
      "wの解) [[-0.07142857]\n",
      " [-1.71428571]]\n"
     ]
    }
   ],
   "source": [
    "A = np.array([[2, -3], [4, 1]])\n",
    "b = np.array([[5], [-2]])\n",
    "if np.linalg.det(A) != 0:\n",
    "    w = np.matmul(np.linalg.inv(A), b)\n",
    "    print(f\"wの解) {w}\")\n",
    "else:\n",
    "    print(f\"解が存在しません\")"
   ]
  },
  {
   "cell_type": "code",
   "execution_count": 2,
   "metadata": {},
   "outputs": [
    {
     "name": "stdout",
     "output_type": "stream",
     "text": [
      "反復:0, w = 1.00\n",
      "反復:1, w = 0.40\n",
      "反復:2, w = 0.30\n",
      "反復:3, w = 0.25\n",
      "反復:4, w = 0.21\n",
      "反復:5, w = 0.18\n",
      "反復:6, w = 0.16\n",
      "反復:7, w = 0.15\n",
      "反復:8, w = 0.13\n",
      "反復:9, w = 0.12\n",
      "反復:10, w = 0.11\n",
      "反復:11, w = 0.11\n",
      "反復:12, w = 0.10\n",
      "反復:13, w = 0.09\n",
      "反復:14, w = 0.09\n",
      "反復:15, w = 0.08\n",
      "反復:16, w = 0.08\n",
      "反復:17, w = 0.08\n",
      "反復:18, w = 0.07\n",
      "反復:19, w = 0.07\n",
      "反復:20, w = 0.07\n",
      "反復:21, w = 0.06\n",
      "反復:22, w = 0.06\n",
      "反復:23, w = 0.06\n",
      "反復:24, w = 0.06\n",
      "反復:25, w = 0.06\n",
      "反復:26, w = 0.05\n",
      "反復:27, w = 0.05\n",
      "反復:28, w = 0.05\n",
      "反復:29, w = 0.05\n",
      "反復:30, w = 0.05\n",
      "反復:31, w = 0.05\n",
      "反復:32, w = 0.04\n",
      "反復:33, w = 0.04\n",
      "反復:34, w = 0.04\n",
      "反復:35, w = 0.04\n",
      "反復:36, w = 0.04\n",
      "反復:37, w = 0.04\n",
      "反復:38, w = 0.04\n",
      "反復:39, w = 0.04\n",
      "反復:40, w = 0.04\n",
      "反復:41, w = 0.04\n",
      "反復:42, w = 0.03\n",
      "反復:43, w = 0.03\n",
      "反復:44, w = 0.03\n",
      "反復:45, w = 0.03\n",
      "反復:46, w = 0.03\n",
      "反復:47, w = 0.03\n",
      "反復:48, w = 0.03\n",
      "反復:49, w = 0.03\n"
     ]
    }
   ],
   "source": [
    "alpha = 0.2\n",
    "w = 1\n",
    "for ite in range(50):\n",
    "    print(f\"反復:{ite}, w = {round(w, 2):.2f}\")\n",
    "    w -= alpha * 3 * w**2"
   ]
  },
  {
   "cell_type": "code",
   "execution_count": 3,
   "metadata": {},
   "outputs": [
    {
     "name": "stdout",
     "output_type": "stream",
     "text": [
      "データx1:[1 0 1 0 1 0 0 1 0 1]\n",
      "データx1:[1 0 1 0 1 1 1 1 0 0]\n",
      "データx1:[0 0 1 0 0 0 0 0 0 0]\n"
     ]
    }
   ],
   "source": [
    "x1 = np.random.binomial(1, 6/13, 10)\n",
    "x2 = np.random.binomial(1, 6/13, 10)\n",
    "x3 = np.random.binomial(1, 6/13, 10)\n",
    "\n",
    "print(f\"データx1:{x1}\")\n",
    "print(f\"データx1:{x2}\")\n",
    "print(f\"データx1:{x3}\")"
   ]
  },
  {
   "cell_type": "markdown",
   "metadata": {},
   "source": [
    "箱の中にボールが13個入っている。そのうち青いボールは6個、赤いボールは7個  \n",
    "青いボールのうち、木製は4個でゴム製は3個、赤いボールのうち、木製は3個でゴム製は4個 (箱の中に木製は7個、ゴム製は6個)  \n",
    "ボールの色を確率変数x, ボールの材質を確率変数yとする  \n",
    "ボールを1個取り出す。  \n",
    "ボールを取り出した時、「木」かつ「青」→同時確率  \n",
    "取り出したボールが木製であることがわかっていて、そのボールが「青」→条件付き確率 (材質の確率変数yは原因、色の確率変数xは結果)  \n",
    "同時確率がわかっている状況から確率変数xの確率を求める方法：周辺化(確率変数が二つの場合は求める確率変数以外の変数をシグマする)  \n",
    "同時確率は条件付き確率と周辺確率の積として表すことが可能 (乗法定理)  \n",
    "乗法定理より、条件付き確率は同時確率を周辺確率で割ったものから求めることが可能   \n"
   ]
  },
  {
   "cell_type": "code",
   "execution_count": 14,
   "metadata": {},
   "outputs": [
    {
     "name": "stdout",
     "output_type": "stream",
     "text": [
      "in_std:97\n",
      "out_std:3\n"
     ]
    }
   ],
   "source": [
    "x1 = np.random.normal(0, 1, 100)\n",
    "x2 = np.random.normal(3, 1, 10)\n",
    "x3 = np.random.normal(-3, 1, 10)\n",
    "\n",
    "x1_list = x1.tolist()\n",
    "in_std = []\n",
    "out_std = []\n",
    "for i in x1_list:\n",
    "    if i <= 2 and i >= -2:\n",
    "        in_std.append(i)\n",
    "    else:\n",
    "        out_std.append(i)\n",
    "a = len(in_std)\n",
    "b = len(out_std)\n",
    "print(f\"in_std:{a}\")\n",
    "print(f\"out_std:{b}\")"
   ]
  },
  {
   "cell_type": "markdown",
   "metadata": {},
   "source": []
  },
  {
   "cell_type": "code",
   "execution_count": null,
   "metadata": {},
   "outputs": [],
   "source": []
  },
  {
   "cell_type": "code",
   "execution_count": null,
   "metadata": {},
   "outputs": [],
   "source": []
  }
 ],
 "metadata": {
  "kernelspec": {
   "display_name": "pytorch",
   "language": "python",
   "name": "python3"
  },
  "language_info": {
   "codemirror_mode": {
    "name": "ipython",
    "version": 3
   },
   "file_extension": ".py",
   "mimetype": "text/x-python",
   "name": "python",
   "nbconvert_exporter": "python",
   "pygments_lexer": "ipython3",
   "version": "3.10.16"
  }
 },
 "nbformat": 4,
 "nbformat_minor": 2
}
